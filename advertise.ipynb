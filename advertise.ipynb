{
 "cells": [
  {
   "cell_type": "raw",
   "id": "48eaec0b",
   "metadata": {
    "papermill": {
     "duration": 0.007932,
     "end_time": "2023-02-15T08:05:32.222931",
     "exception": false,
     "start_time": "2023-02-15T08:05:32.214999",
     "status": "completed"
    },
    "tags": []
   },
   "source": []
  },
  {
   "cell_type": "code",
   "execution_count": 1,
   "id": "dfef3520",
   "metadata": {
    "_cell_guid": "b1076dfc-b9ad-4769-8c92-a6c4dae69d19",
    "_uuid": "8f2839f25d086af736a60e9eeb907d3b93b6e0e5",
    "execution": {
     "iopub.execute_input": "2023-02-15T08:05:32.233682Z",
     "iopub.status.busy": "2023-02-15T08:05:32.232375Z",
     "iopub.status.idle": "2023-02-15T08:05:32.252376Z",
     "shell.execute_reply": "2023-02-15T08:05:32.251361Z"
    },
    "papermill": {
     "duration": 0.028311,
     "end_time": "2023-02-15T08:05:32.255273",
     "exception": false,
     "start_time": "2023-02-15T08:05:32.226962",
     "status": "completed"
    },
    "tags": []
   },
   "outputs": [
    {
     "name": "stdout",
     "output_type": "stream",
     "text": [
      "/kaggle/input/advertising-dataset/advertising.csv\n"
     ]
    }
   ],
   "source": [
    "# This Python 3 environment comes with many helpful analytics libraries installed\n",
    "# It is defined by the kaggle/python Docker image: https://github.com/kaggle/docker-python\n",
    "# For example, here's several helpful packages to load\n",
    "\n",
    "import numpy as np # linear algebra\n",
    "import pandas as pd # data processing, CSV file I/O (e.g. pd.read_csv)\n",
    "\n",
    "# Input data files are available in the read-only \"../input/\" directory\n",
    "# For example, running this (by clicking run or pressing Shift+Enter) will list all files under the input directory\n",
    "\n",
    "import os\n",
    "for dirname, _, filenames in os.walk('/kaggle/input'):\n",
    "    for filename in filenames:\n",
    "        print(os.path.join(dirname, filename))\n",
    "\n",
    "# You can write up to 20GB to the current directory (/kaggle/working/) that gets preserved as output when you create a version using \"Save & Run All\" \n",
    "# You can also write temporary files to /kaggle/temp/, but they won't be saved outside of the current session"
   ]
  },
  {
   "cell_type": "markdown",
   "id": "7e8db54e",
   "metadata": {
    "papermill": {
     "duration": 0.003588,
     "end_time": "2023-02-15T08:05:32.262910",
     "exception": false,
     "start_time": "2023-02-15T08:05:32.259322",
     "status": "completed"
    },
    "tags": []
   },
   "source": [
    "**Taking data as input** "
   ]
  },
  {
   "cell_type": "code",
   "execution_count": 2,
   "id": "c868cb9e",
   "metadata": {
    "execution": {
     "iopub.execute_input": "2023-02-15T08:05:32.273564Z",
     "iopub.status.busy": "2023-02-15T08:05:32.272288Z",
     "iopub.status.idle": "2023-02-15T08:05:32.294213Z",
     "shell.execute_reply": "2023-02-15T08:05:32.292912Z"
    },
    "papermill": {
     "duration": 0.03115,
     "end_time": "2023-02-15T08:05:32.298023",
     "exception": false,
     "start_time": "2023-02-15T08:05:32.266873",
     "status": "completed"
    },
    "tags": []
   },
   "outputs": [
    {
     "name": "stdout",
     "output_type": "stream",
     "text": [
      "file input done\n"
     ]
    }
   ],
   "source": [
    "file_path='/kaggle/input/advertising-dataset/advertising.csv'\n",
    "ad_data=pd.read_csv(file_path)\n",
    "print(\"file input done\")"
   ]
  },
  {
   "cell_type": "code",
   "execution_count": 3,
   "id": "b1e09646",
   "metadata": {
    "execution": {
     "iopub.execute_input": "2023-02-15T08:05:32.308609Z",
     "iopub.status.busy": "2023-02-15T08:05:32.308122Z",
     "iopub.status.idle": "2023-02-15T08:05:32.324345Z",
     "shell.execute_reply": "2023-02-15T08:05:32.323495Z"
    },
    "papermill": {
     "duration": 0.025318,
     "end_time": "2023-02-15T08:05:32.328011",
     "exception": false,
     "start_time": "2023-02-15T08:05:32.302693",
     "status": "completed"
    },
    "tags": []
   },
   "outputs": [
    {
     "data": {
      "text/plain": [
       "TV           0\n",
       "Radio        0\n",
       "Newspaper    0\n",
       "Sales        0\n",
       "dtype: int64"
      ]
     },
     "execution_count": 3,
     "metadata": {},
     "output_type": "execute_result"
    }
   ],
   "source": [
    "ad_data.isnull().sum()"
   ]
  },
  {
   "cell_type": "markdown",
   "id": "df7cbfef",
   "metadata": {
    "papermill": {
     "duration": 0.004007,
     "end_time": "2023-02-15T08:05:32.336626",
     "exception": false,
     "start_time": "2023-02-15T08:05:32.332619",
     "status": "completed"
    },
    "tags": []
   },
   "source": [
    "***taking target***"
   ]
  },
  {
   "cell_type": "code",
   "execution_count": 4,
   "id": "04783f15",
   "metadata": {
    "execution": {
     "iopub.execute_input": "2023-02-15T08:05:32.347660Z",
     "iopub.status.busy": "2023-02-15T08:05:32.346813Z",
     "iopub.status.idle": "2023-02-15T08:05:32.357413Z",
     "shell.execute_reply": "2023-02-15T08:05:32.356276Z"
    },
    "papermill": {
     "duration": 0.019223,
     "end_time": "2023-02-15T08:05:32.360365",
     "exception": false,
     "start_time": "2023-02-15T08:05:32.341142",
     "status": "completed"
    },
    "tags": []
   },
   "outputs": [],
   "source": [
    "ad_data.head()\n",
    "y=ad_data.Sales"
   ]
  },
  {
   "cell_type": "markdown",
   "id": "46f21f2e",
   "metadata": {
    "papermill": {
     "duration": 0.003753,
     "end_time": "2023-02-15T08:05:32.368292",
     "exception": false,
     "start_time": "2023-02-15T08:05:32.364539",
     "status": "completed"
    },
    "tags": []
   },
   "source": [
    "***taking features***"
   ]
  },
  {
   "cell_type": "code",
   "execution_count": 5,
   "id": "9f12e94b",
   "metadata": {
    "execution": {
     "iopub.execute_input": "2023-02-15T08:05:32.379347Z",
     "iopub.status.busy": "2023-02-15T08:05:32.378539Z",
     "iopub.status.idle": "2023-02-15T08:05:32.388862Z",
     "shell.execute_reply": "2023-02-15T08:05:32.387687Z"
    },
    "papermill": {
     "duration": 0.019294,
     "end_time": "2023-02-15T08:05:32.391662",
     "exception": false,
     "start_time": "2023-02-15T08:05:32.372368",
     "status": "completed"
    },
    "tags": []
   },
   "outputs": [],
   "source": [
    "features=['TV','Radio','Newspaper']\n",
    "X=ad_data[features]\n",
    "# print(X.head)"
   ]
  },
  {
   "cell_type": "markdown",
   "id": "6982ab21",
   "metadata": {
    "papermill": {
     "duration": 0.003741,
     "end_time": "2023-02-15T08:05:32.399570",
     "exception": false,
     "start_time": "2023-02-15T08:05:32.395829",
     "status": "completed"
    },
    "tags": []
   },
   "source": [
    "taking train and val data"
   ]
  },
  {
   "cell_type": "code",
   "execution_count": 6,
   "id": "3f872e26",
   "metadata": {
    "execution": {
     "iopub.execute_input": "2023-02-15T08:05:32.409572Z",
     "iopub.status.busy": "2023-02-15T08:05:32.409092Z",
     "iopub.status.idle": "2023-02-15T08:05:33.516355Z",
     "shell.execute_reply": "2023-02-15T08:05:33.514753Z"
    },
    "papermill": {
     "duration": 1.115892,
     "end_time": "2023-02-15T08:05:33.519309",
     "exception": false,
     "start_time": "2023-02-15T08:05:32.403417",
     "status": "completed"
    },
    "tags": []
   },
   "outputs": [
    {
     "name": "stdout",
     "output_type": "stream",
     "text": [
      "(150, 3)\n",
      "(150,)\n",
      "(50, 3)\n",
      "(50,)\n"
     ]
    }
   ],
   "source": [
    "from sklearn.model_selection import train_test_split\n",
    "\n",
    "trainX,valX,trainy,valy=train_test_split(X,y,random_state=1)\n",
    "print(trainX.shape)\n",
    "print(trainy.shape)\n",
    "print(valX.shape)\n",
    "print(valy.shape)"
   ]
  },
  {
   "cell_type": "markdown",
   "id": "4cf40892",
   "metadata": {
    "papermill": {
     "duration": 0.004058,
     "end_time": "2023-02-15T08:05:33.527717",
     "exception": false,
     "start_time": "2023-02-15T08:05:33.523659",
     "status": "completed"
    },
    "tags": []
   },
   "source": [
    "**defining random forest model**"
   ]
  },
  {
   "cell_type": "code",
   "execution_count": 7,
   "id": "d232814b",
   "metadata": {
    "execution": {
     "iopub.execute_input": "2023-02-15T08:05:33.537809Z",
     "iopub.status.busy": "2023-02-15T08:05:33.537360Z",
     "iopub.status.idle": "2023-02-15T08:05:33.919449Z",
     "shell.execute_reply": "2023-02-15T08:05:33.917537Z"
    },
    "papermill": {
     "duration": 0.390511,
     "end_time": "2023-02-15T08:05:33.922452",
     "exception": false,
     "start_time": "2023-02-15T08:05:33.531941",
     "status": "completed"
    },
    "tags": []
   },
   "outputs": [
    {
     "name": "stdout",
     "output_type": "stream",
     "text": [
      "Validation MAE for Random Forest Model: 1\n"
     ]
    }
   ],
   "source": [
    "from sklearn.ensemble import RandomForestRegressor\n",
    "from sklearn.metrics import mean_absolute_error\n",
    "\n",
    "rf_model=RandomForestRegressor(random_state=1)\n",
    "rf_model.fit(trainX,trainy)\n",
    "y_pred=rf_model.predict(valX)\n",
    "mae=mean_absolute_error(y_pred,valy)\n",
    "\n",
    "print(\"Validation MAE for Random Forest Model: {:,.0f}\".format(mae))"
   ]
  },
  {
   "cell_type": "code",
   "execution_count": 8,
   "id": "273b27e4",
   "metadata": {
    "execution": {
     "iopub.execute_input": "2023-02-15T08:05:33.933088Z",
     "iopub.status.busy": "2023-02-15T08:05:33.932601Z",
     "iopub.status.idle": "2023-02-15T08:05:33.937926Z",
     "shell.execute_reply": "2023-02-15T08:05:33.936708Z"
    },
    "papermill": {
     "duration": 0.013619,
     "end_time": "2023-02-15T08:05:33.940455",
     "exception": false,
     "start_time": "2023-02-15T08:05:33.926836",
     "status": "completed"
    },
    "tags": []
   },
   "outputs": [],
   "source": [
    "from sklearn.metrics import accuracy_score\n",
    "\n",
    "# score=accuracy_score(valy,y_pred)\n",
    "# print(score)"
   ]
  }
 ],
 "metadata": {
  "kernelspec": {
   "display_name": "Python 3",
   "language": "python",
   "name": "python3"
  },
  "language_info": {
   "codemirror_mode": {
    "name": "ipython",
    "version": 3
   },
   "file_extension": ".py",
   "mimetype": "text/x-python",
   "name": "python",
   "nbconvert_exporter": "python",
   "pygments_lexer": "ipython3",
   "version": "3.7.12"
  },
  "papermill": {
   "default_parameters": {},
   "duration": 11.600004,
   "end_time": "2023-02-15T08:05:34.768212",
   "environment_variables": {},
   "exception": null,
   "input_path": "__notebook__.ipynb",
   "output_path": "__notebook__.ipynb",
   "parameters": {},
   "start_time": "2023-02-15T08:05:23.168208",
   "version": "2.3.4"
  }
 },
 "nbformat": 4,
 "nbformat_minor": 5
}
